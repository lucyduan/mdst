{
  "cells": [
    {
      "cell_type": "markdown",
      "metadata": {
        "id": "view-in-github",
        "colab_type": "text"
      },
      "source": [
        "<a href=\"https://colab.research.google.com/github/lucyduan/mdst/blob/master/Copy_of_final.ipynb\" target=\"_parent\"><img src=\"https://colab.research.google.com/assets/colab-badge.svg\" alt=\"Open In Colab\"/></a>"
      ]
    },
    {
      "cell_type": "markdown",
      "metadata": {
        "id": "K1IXlLW65B35"
      },
      "source": [
        "# STATS 306, Winter 2022\n",
        "## Take-home Final Exam\n",
        "\n",
        "Assigned: April 14, 2022  \n",
        "Due: April 21, 2022, 11:59 pm Ann Arbor time\n",
        "\n",
        "There are a total of **four problems** for a total of **40 points**. Each problem is worth **10 points**.\n",
        "\n",
        "**PLEASE READ EXAM INSTRUCTIONS** (available [here](https://github.com/ambujtewari/stats306-winter2022/blob/main/final/README.md)) before proceeding further.\n"
      ]
    },
    {
      "cell_type": "markdown",
      "metadata": {
        "id": "RBzU1JbW5B39"
      },
      "source": [
        "### Required Packages"
      ]
    },
    {
      "cell_type": "code",
      "execution_count": null,
      "metadata": {
        "id": "K1YtACqN5B3-"
      },
      "outputs": [],
      "source": [
        "library(tidyverse)"
      ]
    },
    {
      "cell_type": "code",
      "execution_count": null,
      "metadata": {
        "id": "Gftqdzosmjrc"
      },
      "outputs": [],
      "source": [
        "# DO NOT EDIT THIS CELL\n",
        "data_prefix = \"https://github.com/ambujtewari/stats306-winter2022/raw/main/data/\""
      ]
    },
    {
      "cell_type": "markdown",
      "metadata": {
        "id": "9iRl17qK5B4A"
      },
      "source": [
        "### Statement of Academic Integrity"
      ]
    },
    {
      "cell_type": "markdown",
      "metadata": {
        "id": "TnHpdofQ5B4B"
      },
      "source": [
        "**(1)**  \n",
        "\n",
        "_\"I have read the exam instructions. All work submitted is my own. If I used any resources, physical, digital, or otherwise, I have listed them below. I have fully complied with all standards of academic integrity.\"_  \n",
        "\n",
        "Type your full name below in lieu of a physical signature."
      ]
    },
    {
      "cell_type": "markdown",
      "metadata": {
        "id": "MfeaHWhA5B4C"
      },
      "source": [
        "#### Text solution cell 0.1\n",
        "Lucy Duan"
      ]
    },
    {
      "cell_type": "markdown",
      "metadata": {
        "id": "-aMOeulx5B4D"
      },
      "source": [
        "**(2)** List any resources you used that are not mentioned in the exam instructions"
      ]
    },
    {
      "cell_type": "markdown",
      "metadata": {
        "id": "f2XrW8-U5B4E"
      },
      "source": [
        "#### Text solution cell 0.2\n",
        "\n",
        "NA"
      ]
    },
    {
      "cell_type": "markdown",
      "metadata": {
        "id": "SteLs6-w5B4O"
      },
      "source": [
        "### Problem 1"
      ]
    },
    {
      "cell_type": "markdown",
      "metadata": {
        "id": "SUmCOA-D5B4P"
      },
      "source": [
        "#### Stars, _10 points_"
      ]
    },
    {
      "cell_type": "markdown",
      "metadata": {
        "id": "MCF2Fa3vmjrh"
      },
      "source": [
        "Physical properties of selected stars, including luminosity, temperature, and spectral class.\n",
        "\n",
        "- `star` Name of star.\n",
        "- `magnitude` Absolute magnitude of the star, which is a function of the star’s luminosity and\n",
        "distance to the star.\n",
        "- `temp` Surface temperature in degrees Kelvin (K).\n",
        "- `type` Spectral class of star in the OBAFGKM system."
      ]
    },
    {
      "cell_type": "code",
      "execution_count": null,
      "metadata": {
        "id": "eXbb2smh5B4R",
        "colab": {
          "base_uri": "https://localhost:8080/",
          "height": 286
        },
        "outputId": "3f3dc951-6daf-49c0-921e-a9dd751db198"
      },
      "outputs": [
        {
          "output_type": "display_data",
          "data": {
            "text/html": [
              "<table class=\"dataframe\">\n",
              "<caption>A tibble: 6 × 4</caption>\n",
              "<thead>\n",
              "\t<tr><th scope=col>star</th><th scope=col>magnitude</th><th scope=col>temp</th><th scope=col>type</th></tr>\n",
              "\t<tr><th scope=col>&lt;fct&gt;</th><th scope=col>&lt;dbl&gt;</th><th scope=col>&lt;int&gt;</th><th scope=col>&lt;chr&gt;</th></tr>\n",
              "</thead>\n",
              "<tbody>\n",
              "\t<tr><td>Sun           </td><td> 4.8</td><td>5840</td><td>G</td></tr>\n",
              "\t<tr><td>SiriusA       </td><td> 1.4</td><td>9620</td><td>A</td></tr>\n",
              "\t<tr><td>Canopus       </td><td>-3.1</td><td>7400</td><td>F</td></tr>\n",
              "\t<tr><td>Arcturus      </td><td>-0.4</td><td>4590</td><td>K</td></tr>\n",
              "\t<tr><td>AlphaCentauriA</td><td> 4.3</td><td>5840</td><td>G</td></tr>\n",
              "\t<tr><td>Vega          </td><td> 0.5</td><td>9900</td><td>A</td></tr>\n",
              "</tbody>\n",
              "</table>\n"
            ],
            "text/markdown": "\nA tibble: 6 × 4\n\n| star &lt;fct&gt; | magnitude &lt;dbl&gt; | temp &lt;int&gt; | type &lt;chr&gt; |\n|---|---|---|---|\n| Sun            |  4.8 | 5840 | G |\n| SiriusA        |  1.4 | 9620 | A |\n| Canopus        | -3.1 | 7400 | F |\n| Arcturus       | -0.4 | 4590 | K |\n| AlphaCentauriA |  4.3 | 5840 | G |\n| Vega           |  0.5 | 9900 | A |\n\n",
            "text/latex": "A tibble: 6 × 4\n\\begin{tabular}{llll}\n star & magnitude & temp & type\\\\\n <fct> & <dbl> & <int> & <chr>\\\\\n\\hline\n\t Sun            &  4.8 & 5840 & G\\\\\n\t SiriusA        &  1.4 & 9620 & A\\\\\n\t Canopus        & -3.1 & 7400 & F\\\\\n\t Arcturus       & -0.4 & 4590 & K\\\\\n\t AlphaCentauriA &  4.3 & 5840 & G\\\\\n\t Vega           &  0.5 & 9900 & A\\\\\n\\end{tabular}\n",
            "text/plain": [
              "  star           magnitude temp type\n",
              "1 Sun             4.8      5840 G   \n",
              "2 SiriusA         1.4      9620 A   \n",
              "3 Canopus        -3.1      7400 F   \n",
              "4 Arcturus       -0.4      4590 K   \n",
              "5 AlphaCentauriA  4.3      5840 G   \n",
              "6 Vega            0.5      9900 A   "
            ]
          },
          "metadata": {}
        }
      ],
      "source": [
        "# DO NOT EDIT THIS CELL\n",
        "\n",
        "stars <- readRDS(url(str_c(data_prefix, \"stars.rds\")))\n",
        "head(stars)"
      ]
    },
    {
      "cell_type": "markdown",
      "metadata": {
        "id": "mU-iJvvBmjri"
      },
      "source": [
        "**(1)** Convert the type of column `star` to character and assign the resulting tibble back to the variable `stars`. _2 points_"
      ]
    },
    {
      "cell_type": "code",
      "execution_count": null,
      "metadata": {
        "id": "nEGjYY86mjri"
      },
      "outputs": [],
      "source": [
        "# SOLUTION CELL 1.1\n",
        "stars <- stars %>%\n",
        "         mutate(star = as.character(star))"
      ]
    },
    {
      "cell_type": "markdown",
      "metadata": {
        "id": "CofbWrZo5B4T"
      },
      "source": [
        "**(2)** Create a scatter plot with `magnitude` on the x-axis and `temp` on the y-axis with stars of different types in different colors. Superimpose a single smooth curve on your scatterplot to visualize the relationship between `magnitude` and `temperature`. Do **NOT** display standard errors. _2 points_"
      ]
    },
    {
      "cell_type": "code",
      "execution_count": null,
      "metadata": {
        "id": "NeLaHzRr5B4U",
        "colab": {
          "base_uri": "https://localhost:8080/",
          "height": 472
        },
        "outputId": "62698999-2c23-4709-a80f-6fa6f1eb6c2b"
      },
      "outputs": [
        {
          "output_type": "stream",
          "name": "stderr",
          "text": [
            "`geom_smooth()` using method = 'loess' and formula 'y ~ x'\n",
            "\n"
          ]
        },
        {
          "output_type": "display_data",
          "data": {
            "text/plain": [
              "plot without title"
            ],
            "image/png": "[encoded data removed]"
          },
          "metadata": {
            "image/png": {
              "width": 420,
              "height": 420
            }
          }
        }
      ],
      "source": [
        "# SOLUTION CELL 1.2\n",
        "ggplot(stars, aes(x = magnitude, y = temp)) +\n",
        "      geom_point(aes(color = type)) + \n",
        "      geom_smooth(se=FALSE)\n"
      ]
    },
    {
      "cell_type": "markdown",
      "metadata": {
        "id": "VlySQJUZ5B4X"
      },
      "source": [
        "**(3)** Perform the following steps, in order, using pipes:\n",
        "\n",
        "- Keep only those rows where the name of the star begins with `*` followed by one or more letters (both uppercase letters A-Z and lowercase letters a-z are allowed).\n",
        "- Create a new column `new_star` with the `*` at the beginning of the star's name removed.\n",
        "\n",
        "To get full credit, please make sure that the resulting tibble is fully visible. _4 points_"
      ]
    },
    {
      "cell_type": "code",
      "execution_count": null,
      "metadata": {
        "id": "b24U1NzW5B4X",
        "colab": {
          "base_uri": "https://localhost:8080/",
          "height": 537
        },
        "outputId": "7df8bbde-571a-4e8c-83f5-d134dd643d0f"
      },
      "outputs": [
        {
          "output_type": "display_data",
          "data": {
            "text/html": [
              "<table class=\"dataframe\">\n",
              "<caption>A tibble: 14 × 5</caption>\n",
              "<thead>\n",
              "\t<tr><th scope=col>star</th><th scope=col>magnitude</th><th scope=col>temp</th><th scope=col>type</th><th scope=col>new_star</th></tr>\n",
              "\t<tr><th scope=col>&lt;chr&gt;</th><th scope=col>&lt;dbl&gt;</th><th scope=col>&lt;int&gt;</th><th scope=col>&lt;chr&gt;</th><th scope=col>&lt;chr&gt;</th></tr>\n",
              "</thead>\n",
              "<tbody>\n",
              "\t<tr><td>*ProximaCentauri</td><td>15.5</td><td> 2670</td><td>M </td><td>*ProximaCentauri</td></tr>\n",
              "\t<tr><td>*AlphaCentauriB </td><td> 5.8</td><td> 4900</td><td>K </td><td>*AlphaCentauriB </td></tr>\n",
              "\t<tr><td>*L726-8         </td><td>15.5</td><td> 2670</td><td>M </td><td>*L726-8         </td></tr>\n",
              "\t<tr><td>*UVCeti         </td><td>16.0</td><td> 2670</td><td>M </td><td>*UVCeti         </td></tr>\n",
              "\t<tr><td>*SiriusA        </td><td> 1.4</td><td> 9620</td><td>A </td><td>*SiriusA        </td></tr>\n",
              "\t<tr><td>*SiriusB        </td><td>11.2</td><td>14800</td><td>DA</td><td>*SiriusB        </td></tr>\n",
              "\t<tr><td>*GXAndromedae   </td><td>10.4</td><td> 3340</td><td>M </td><td>*GXAndromedae   </td></tr>\n",
              "\t<tr><td>*GQAndromedae   </td><td>13.4</td><td> 2670</td><td>M </td><td>*GQAndromedae   </td></tr>\n",
              "\t<tr><td>*Struve2398A    </td><td>11.2</td><td> 3070</td><td>M </td><td>*Struve2398A    </td></tr>\n",
              "\t<tr><td>*Struve2398B    </td><td>11.9</td><td> 2940</td><td>M </td><td>*Struve2398B    </td></tr>\n",
              "\t<tr><td>*ProcyonA       </td><td> 2.6</td><td> 6600</td><td>F </td><td>*ProcyonA       </td></tr>\n",
              "\t<tr><td>*ProcyonB       </td><td>13.0</td><td> 9700</td><td>DF</td><td>*ProcyonB       </td></tr>\n",
              "\t<tr><td>*Kruger60A      </td><td>11.9</td><td> 2940</td><td>M </td><td>*Kruger60A      </td></tr>\n",
              "\t<tr><td>*Kruger60B      </td><td>13.3</td><td> 2670</td><td>M </td><td>*Kruger60B      </td></tr>\n",
              "</tbody>\n",
              "</table>\n"
            ],
            "text/markdown": "\nA tibble: 14 × 5\n\n| star &lt;chr&gt; | magnitude &lt;dbl&gt; | temp &lt;int&gt; | type &lt;chr&gt; | new_star &lt;chr&gt; |\n|---|---|---|---|---|\n| *ProximaCentauri | 15.5 |  2670 | M  | *ProximaCentauri |\n| *AlphaCentauriB  |  5.8 |  4900 | K  | *AlphaCentauriB  |\n| *L726-8          | 15.5 |  2670 | M  | *L726-8          |\n| *UVCeti          | 16.0 |  2670 | M  | *UVCeti          |\n| *SiriusA         |  1.4 |  9620 | A  | *SiriusA         |\n| *SiriusB         | 11.2 | 14800 | DA | *SiriusB         |\n| *GXAndromedae    | 10.4 |  3340 | M  | *GXAndromedae    |\n| *GQAndromedae    | 13.4 |  2670 | M  | *GQAndromedae    |\n| *Struve2398A     | 11.2 |  3070 | M  | *Struve2398A     |\n| *Struve2398B     | 11.9 |  2940 | M  | *Struve2398B     |\n| *ProcyonA        |  2.6 |  6600 | F  | *ProcyonA        |\n| *ProcyonB        | 13.0 |  9700 | DF | *ProcyonB        |\n| *Kruger60A       | 11.9 |  2940 | M  | *Kruger60A       |\n| *Kruger60B       | 13.3 |  2670 | M  | *Kruger60B       |\n\n",
            "text/latex": "A tibble: 14 × 5\n\\begin{tabular}{lllll}\n star & magnitude & temp & type & new\\_star\\\\\n <chr> & <dbl> & <int> & <chr> & <chr>\\\\\n\\hline\n\t *ProximaCentauri & 15.5 &  2670 & M  & *ProximaCentauri\\\\\n\t *AlphaCentauriB  &  5.8 &  4900 & K  & *AlphaCentauriB \\\\\n\t *L726-8          & 15.5 &  2670 & M  & *L726-8         \\\\\n\t *UVCeti          & 16.0 &  2670 & M  & *UVCeti         \\\\\n\t *SiriusA         &  1.4 &  9620 & A  & *SiriusA        \\\\\n\t *SiriusB         & 11.2 & 14800 & DA & *SiriusB        \\\\\n\t *GXAndromedae    & 10.4 &  3340 & M  & *GXAndromedae   \\\\\n\t *GQAndromedae    & 13.4 &  2670 & M  & *GQAndromedae   \\\\\n\t *Struve2398A     & 11.2 &  3070 & M  & *Struve2398A    \\\\\n\t *Struve2398B     & 11.9 &  2940 & M  & *Struve2398B    \\\\\n\t *ProcyonA        &  2.6 &  6600 & F  & *ProcyonA       \\\\\n\t *ProcyonB        & 13.0 &  9700 & DF & *ProcyonB       \\\\\n\t *Kruger60A       & 11.9 &  2940 & M  & *Kruger60A      \\\\\n\t *Kruger60B       & 13.3 &  2670 & M  & *Kruger60B      \\\\\n\\end{tabular}\n",
            "text/plain": [
              "   star             magnitude temp  type new_star        \n",
              "1  *ProximaCentauri 15.5       2670 M    *ProximaCentauri\n",
              "2  *AlphaCentauriB   5.8       4900 K    *AlphaCentauriB \n",
              "3  *L726-8          15.5       2670 M    *L726-8         \n",
              "4  *UVCeti          16.0       2670 M    *UVCeti         \n",
              "5  *SiriusA          1.4       9620 A    *SiriusA        \n",
              "6  *SiriusB         11.2      14800 DA   *SiriusB        \n",
              "7  *GXAndromedae    10.4       3340 M    *GXAndromedae   \n",
              "8  *GQAndromedae    13.4       2670 M    *GQAndromedae   \n",
              "9  *Struve2398A     11.2       3070 M    *Struve2398A    \n",
              "10 *Struve2398B     11.9       2940 M    *Struve2398B    \n",
              "11 *ProcyonA         2.6       6600 F    *ProcyonA       \n",
              "12 *ProcyonB        13.0       9700 DF   *ProcyonB       \n",
              "13 *Kruger60A       11.9       2940 M    *Kruger60A      \n",
              "14 *Kruger60B       13.3       2670 M    *Kruger60B      "
            ]
          },
          "metadata": {}
        }
      ],
      "source": [
        "# SOLUTION CELL 1.3\n",
        "stars_keep = \"^\\\\*[A-Za-z]{1,}\"\n",
        "stars_2 <- stars %>%\n",
        "        filter(str_detect(star, stars_keep)) %>%\n",
        "        mutate(new_star = str_replace(star, \"^//*\", \"\"))\n",
        "stars_2\n",
        "\n"
      ]
    },
    {
      "cell_type": "markdown",
      "metadata": {
        "id": "APz4Ix1W5B4V"
      },
      "source": [
        "**(4)** Make the plot shown [here](https://github.com/ambujtewari/stats306-winter2022/raw/main/data/plot_1-4.jpeg). Don't worry about matching the size and proportions of the example plot. Please make sure to turn off any legend that might appear using the `show.legend` argument. _2 points_\n",
        "\n"
      ]
    },
    {
      "cell_type": "code",
      "execution_count": null,
      "metadata": {
        "id": "gWozeJYr5B4W",
        "colab": {
          "base_uri": "https://localhost:8080/",
          "height": 437
        },
        "outputId": "b1ea740b-119f-4934-f1f1-5e984c3bbc3f"
      },
      "outputs": [
        {
          "output_type": "display_data",
          "data": {
            "text/plain": [
              "plot without title"
            ],
            "image/png": "[encoded data removed]"
          },
          "metadata": {
            "image/png": {
              "width": 420,
              "height": 420
            }
          }
        }
      ],
      "source": [
        "# SOLUTION CELL 1.4\n",
        "ggplot(stars, aes(x = type, y = temp)) +\n",
        "      geom_boxplot(aes(color = type, fill = type), show.legend = FALSE)\n"
      ]
    },
    {
      "cell_type": "markdown",
      "metadata": {
        "id": "V8E4QNXmmjrl"
      },
      "source": [
        "### Problem 2"
      ]
    },
    {
      "cell_type": "markdown",
      "metadata": {
        "id": "0mIHZKctmjrl"
      },
      "source": [
        "#### Movies, _10 points_"
      ]
    },
    {
      "cell_type": "markdown",
      "metadata": {
        "id": "kwZxXFNcmjrl"
      },
      "source": [
        "A data set from the MovieLens recommender system.\n",
        "\n",
        "- `movieId` Unique ID for the movie.\n",
        "- `title` Movie title (not unique).\n",
        "- `year` Year the movie was released.\n",
        "- `genres` Genres associated with the movie.\n",
        "- `userId` Unique ID for the user.\n",
        "- `rating` A rating between 0 and 5 for the movie.\n",
        "- `timestamp` Date and time the rating was given (in seconds since midnight Coordinated Universal Time (UTC) of January 1, 1970)."
      ]
    },
    {
      "cell_type": "code",
      "execution_count": null,
      "metadata": {
        "id": "V_tkBGrgmjrl",
        "outputId": "9c12e9da-aec8-4cab-8628-51292a90dd71",
        "colab": {
          "base_uri": "https://localhost:8080/",
          "height": 303
        }
      },
      "outputs": [
        {
          "output_type": "display_data",
          "data": {
            "text/html": [
              "<table class=\"dataframe\">\n",
              "<caption>A tibble: 6 × 7</caption>\n",
              "<thead>\n",
              "\t<tr><th scope=col>movieId</th><th scope=col>title</th><th scope=col>year</th><th scope=col>genres</th><th scope=col>userId</th><th scope=col>rating</th><th scope=col>timestamp</th></tr>\n",
              "\t<tr><th scope=col>&lt;int&gt;</th><th scope=col>&lt;chr&gt;</th><th scope=col>&lt;int&gt;</th><th scope=col>&lt;chr&gt;</th><th scope=col>&lt;int&gt;</th><th scope=col>&lt;dbl&gt;</th><th scope=col>&lt;int&gt;</th></tr>\n",
              "</thead>\n",
              "<tbody>\n",
              "\t<tr><td>  31</td><td>Dangerous Minds                        </td><td>1995</td><td>Drama                           </td><td>1</td><td>2.5</td><td>1260759144</td></tr>\n",
              "\t<tr><td>1029</td><td>Dumbo                                  </td><td>1941</td><td>Animation|Children|Drama|Musical</td><td>1</td><td>3.0</td><td>1260759179</td></tr>\n",
              "\t<tr><td>1061</td><td>Sleepers                               </td><td>1996</td><td>Thriller                        </td><td>1</td><td>3.0</td><td>1260759182</td></tr>\n",
              "\t<tr><td>1129</td><td>Escape from New York                   </td><td>1981</td><td>Action|Adventure|Sci-Fi|Thriller</td><td>1</td><td>2.0</td><td>1260759185</td></tr>\n",
              "\t<tr><td>1172</td><td>Cinema Paradiso (Nuovo cinema Paradiso)</td><td>1989</td><td>Drama                           </td><td>1</td><td>4.0</td><td>1260759205</td></tr>\n",
              "\t<tr><td>1263</td><td>Deer Hunter, The                       </td><td>1978</td><td>Drama|War                       </td><td>1</td><td>2.0</td><td>1260759151</td></tr>\n",
              "</tbody>\n",
              "</table>\n"
            ],
            "text/markdown": "\nA tibble: 6 × 7\n\n| movieId &lt;int&gt; | title &lt;chr&gt; | year &lt;int&gt; | genres &lt;chr&gt; | userId &lt;int&gt; | rating &lt;dbl&gt; | timestamp &lt;int&gt; |\n|---|---|---|---|---|---|---|\n|   31 | Dangerous Minds                         | 1995 | Drama                            | 1 | 2.5 | 1260759144 |\n| 1029 | Dumbo                                   | 1941 | Animation|Children|Drama|Musical | 1 | 3.0 | 1260759179 |\n| 1061 | Sleepers                                | 1996 | Thriller                         | 1 | 3.0 | 1260759182 |\n| 1129 | Escape from New York                    | 1981 | Action|Adventure|Sci-Fi|Thriller | 1 | 2.0 | 1260759185 |\n| 1172 | Cinema Paradiso (Nuovo cinema Paradiso) | 1989 | Drama                            | 1 | 4.0 | 1260759205 |\n| 1263 | Deer Hunter, The                        | 1978 | Drama|War                        | 1 | 2.0 | 1260759151 |\n\n",
            "text/latex": "A tibble: 6 × 7\n\\begin{tabular}{lllllll}\n movieId & title & year & genres & userId & rating & timestamp\\\\\n <int> & <chr> & <int> & <chr> & <int> & <dbl> & <int>\\\\\n\\hline\n\t   31 & Dangerous Minds                         & 1995 & Drama                            & 1 & 2.5 & 1260759144\\\\\n\t 1029 & Dumbo                                   & 1941 & Animation\\textbar{}Children\\textbar{}Drama\\textbar{}Musical & 1 & 3.0 & 1260759179\\\\\n\t 1061 & Sleepers                                & 1996 & Thriller                         & 1 & 3.0 & 1260759182\\\\\n\t 1129 & Escape from New York                    & 1981 & Action\\textbar{}Adventure\\textbar{}Sci-Fi\\textbar{}Thriller & 1 & 2.0 & 1260759185\\\\\n\t 1172 & Cinema Paradiso (Nuovo cinema Paradiso) & 1989 & Drama                            & 1 & 4.0 & 1260759205\\\\\n\t 1263 & Deer Hunter, The                        & 1978 & Drama\\textbar{}War                        & 1 & 2.0 & 1260759151\\\\\n\\end{tabular}\n",
            "text/plain": [
              "  movieId title                                   year\n",
              "1   31    Dangerous Minds                         1995\n",
              "2 1029    Dumbo                                   1941\n",
              "3 1061    Sleepers                                1996\n",
              "4 1129    Escape from New York                    1981\n",
              "5 1172    Cinema Paradiso (Nuovo cinema Paradiso) 1989\n",
              "6 1263    Deer Hunter, The                        1978\n",
              "  genres                           userId rating timestamp \n",
              "1 Drama                            1      2.5    1260759144\n",
              "2 Animation|Children|Drama|Musical 1      3.0    1260759179\n",
              "3 Thriller                         1      3.0    1260759182\n",
              "4 Action|Adventure|Sci-Fi|Thriller 1      2.0    1260759185\n",
              "5 Drama                            1      4.0    1260759205\n",
              "6 Drama|War                        1      2.0    1260759151"
            ]
          },
          "metadata": {}
        }
      ],
      "source": [
        "# DO NOT EDIT THIS CELL\n",
        "\n",
        "movielens <- read_csv(str_c(data_prefix, \"movielens.csv\"), col_types = \"icicidi\")\n",
        "head(movielens)"
      ]
    },
    {
      "cell_type": "markdown",
      "metadata": {
        "id": "gD2JNBmTmjrl"
      },
      "source": [
        "Be very careful **not** to use the movie title to uniquely identify movies in this problem. The title *does not* pin the movie down uniquely. For example, the movie with title `\"Alice in Wonderland\"` has been made several times over the years."
      ]
    },
    {
      "cell_type": "code",
      "execution_count": null,
      "metadata": {
        "id": "ElX3bzgimjrl",
        "outputId": "83d25e8f-840b-4427-881c-6484719bf8b8",
        "colab": {
          "base_uri": "https://localhost:8080/",
          "height": 35
        }
      },
      "outputs": [
        {
          "output_type": "display_data",
          "data": {
            "text/html": [
              "<style>\n",
              ".list-inline {list-style: none; margin:0; padding: 0}\n",
              ".list-inline>li {display: inline-block}\n",
              ".list-inline>li:not(:last-child)::after {content: \"\\00b7\"; padding: 0 .5ex}\n",
              "</style>\n",
              "<ol class=list-inline><li>1951</li><li>2010</li><li>1933</li></ol>\n"
            ],
            "text/markdown": "1. 1951\n2. 2010\n3. 1933\n\n\n",
            "text/latex": "\\begin{enumerate*}\n\\item 1951\n\\item 2010\n\\item 1933\n\\end{enumerate*}\n",
            "text/plain": [
              "[1] 1951 2010 1933"
            ]
          },
          "metadata": {}
        }
      ],
      "source": [
        "# DO NOT EDIT THIS CELL\n",
        "\n",
        "movielens %>%\n",
        "    filter(title == \"Alice in Wonderland\") %>%\n",
        "    pull(year) %>%\n",
        "    unique()"
      ]
    },
    {
      "cell_type": "markdown",
      "metadata": {
        "id": "IsLXmUN2mjrm"
      },
      "source": [
        "**(1)** Use a single piped command to output a tibble that has all movies with at least 200 ratings and a mean rating strictly greater than 4.25 sorted in descending order by mean rating. This tibble should have 4 columns:\n",
        "\n",
        "- `movieId` Unique ID for the movie.\n",
        "- `title` Same title can have multiple IDs but there is going to be a unique title for a given ID.\n",
        "- `mean_rating` mean rating for the movie.\n",
        "- `num_ratings` the number of ratings for this movie in the data set.\n",
        "\n",
        "_2 points_"
      ]
    },
    {
      "cell_type": "code",
      "execution_count": null,
      "metadata": {
        "id": "6ClbgAYGmjrm",
        "colab": {
          "base_uri": "https://localhost:8080/",
          "height": 321
        },
        "outputId": "eb799169-83bd-4942-8f12-eb612470ae4e"
      },
      "outputs": [
        {
          "output_type": "stream",
          "name": "stderr",
          "text": [
            "\u001b[1m\u001b[22m`summarise()` has grouped output by 'movieId'. You can override using the\n",
            "`.groups` argument.\n"
          ]
        },
        {
          "output_type": "display_data",
          "data": {
            "text/html": [
              "<table class=\"dataframe\">\n",
              "<caption>A grouped_df: 6 × 4</caption>\n",
              "<thead>\n",
              "\t<tr><th scope=col>movieId</th><th scope=col>title</th><th scope=col>num_ratings</th><th scope=col>mean_rating</th></tr>\n",
              "\t<tr><th scope=col>&lt;int&gt;</th><th scope=col>&lt;chr&gt;</th><th scope=col>&lt;int&gt;</th><th scope=col>&lt;dbl&gt;</th></tr>\n",
              "</thead>\n",
              "<tbody>\n",
              "\t<tr><td>858</td><td>Godfather, The           </td><td>200</td><td>4.487500</td></tr>\n",
              "\t<tr><td>318</td><td>Shawshank Redemption, The</td><td>311</td><td>4.487138</td></tr>\n",
              "\t<tr><td> 50</td><td>Usual Suspects, The      </td><td>201</td><td>4.370647</td></tr>\n",
              "\t<tr><td>527</td><td>Schindler's List         </td><td>244</td><td>4.303279</td></tr>\n",
              "\t<tr><td>608</td><td>Fargo                    </td><td>224</td><td>4.256696</td></tr>\n",
              "\t<tr><td>296</td><td>Pulp Fiction             </td><td>324</td><td>4.256173</td></tr>\n",
              "</tbody>\n",
              "</table>\n"
            ],
            "text/markdown": "\nA grouped_df: 6 × 4\n\n| movieId &lt;int&gt; | title &lt;chr&gt; | num_ratings &lt;int&gt; | mean_rating &lt;dbl&gt; |\n|---|---|---|---|\n| 858 | Godfather, The            | 200 | 4.487500 |\n| 318 | Shawshank Redemption, The | 311 | 4.487138 |\n|  50 | Usual Suspects, The       | 201 | 4.370647 |\n| 527 | Schindler's List          | 244 | 4.303279 |\n| 608 | Fargo                     | 224 | 4.256696 |\n| 296 | Pulp Fiction              | 324 | 4.256173 |\n\n",
            "text/latex": "A grouped\\_df: 6 × 4\n\\begin{tabular}{llll}\n movieId & title & num\\_ratings & mean\\_rating\\\\\n <int> & <chr> & <int> & <dbl>\\\\\n\\hline\n\t 858 & Godfather, The            & 200 & 4.487500\\\\\n\t 318 & Shawshank Redemption, The & 311 & 4.487138\\\\\n\t  50 & Usual Suspects, The       & 201 & 4.370647\\\\\n\t 527 & Schindler's List          & 244 & 4.303279\\\\\n\t 608 & Fargo                     & 224 & 4.256696\\\\\n\t 296 & Pulp Fiction              & 324 & 4.256173\\\\\n\\end{tabular}\n",
            "text/plain": [
              "  movieId title                     num_ratings mean_rating\n",
              "1 858     Godfather, The            200         4.487500   \n",
              "2 318     Shawshank Redemption, The 311         4.487138   \n",
              "3  50     Usual Suspects, The       201         4.370647   \n",
              "4 527     Schindler's List          244         4.303279   \n",
              "5 608     Fargo                     224         4.256696   \n",
              "6 296     Pulp Fiction              324         4.256173   "
            ]
          },
          "metadata": {}
        }
      ],
      "source": [
        "# SOLUTION CELL 2.1\n",
        "movielens %>% \n",
        "      group_by(movieId, title) %>%\n",
        "      summarise(num_ratings = n(), mean_rating = mean(rating)) %>%\n",
        "      filter(num_ratings >= 200, mean_rating > 4.25) %>%\n",
        "      arrange(desc(mean_rating))\n",
        "  "
      ]
    },
    {
      "cell_type": "markdown",
      "metadata": {
        "id": "3au_iOHOmjrm"
      },
      "source": [
        "**(2)** Note that the `genres` column of `movielens` has genres separated by vertical bars. For example, `\"Drama|War\"` means that the movie belongs to Drama and War genres. Write a function `get_single_genres` such that when it is given a character vector with genres as input, it outputs a longer character vector where each genre has been separated out and one entry of the vector just has a single genre. The order in which the genres appear in the input should be preserved. Two test cases for your function are given below. You might find it helpful to note that the function `unlist()` can be used to convert a list into a vector. _2 points_\n",
        "\n",
        "```\n",
        "> print(get_single_genres(c(\"Drama\",\n",
        "                    \"Animation|Children|Drama|Musical\",\n",
        "                    \"Thriller\",\n",
        "                    \"Action|Adventure|Sci-Fi|Thriller\",\n",
        "                    \"Drama\")))\n",
        "[1] \"Drama\"     \"Animation\" \"Children\"  \"Drama\"     \"Musical\"   \"Thriller\" \n",
        "[7] \"Action\"    \"Adventure\" \"Sci-Fi\"    \"Thriller\"  \"Drama\"\n",
        "\n",
        "> print(get_single_genres(c(\"Drama|War\",\n",
        "                          \"Action|Adventure|Drama\",\n",
        "                          \"Drama\",\n",
        "                          \"Fantasy|Horror|Romance|Thriller\",\n",
        "                          \"Thriller\")))\n",
        "[1] \"Drama\"     \"War\"       \"Action\"    \"Adventure\" \"Drama\"     \"Drama\"    \n",
        "[7] \"Fantasy\"   \"Horror\"    \"Romance\"   \"Thriller\"  \"Thriller\" \n",
        "```"
      ]
    },
    {
      "cell_type": "code",
      "execution_count": null,
      "metadata": {
        "id": "ZoSC638Omjrm"
      },
      "outputs": [],
      "source": [
        "# SOLUTION CELL 2.2\n",
        "get_single_genres <- function(x){\n",
        "  vec <- list()\n",
        "  for(i in x){\n",
        "    if(str_detect(i, \"\\\\|\")){\n",
        "      split = str_split(i, \"\\\\|\")\n",
        "      vec <- c(vec, split)\n",
        "\n",
        "    }\n",
        "    else{\n",
        "    vec <- c(vec, i)\n",
        "    }\n",
        "  }\n",
        "  unlist(vec)\n",
        "}\n"
      ]
    },
    {
      "cell_type": "code",
      "execution_count": null,
      "metadata": {
        "id": "mvr52QaUmjrm",
        "outputId": "3ca7c9d0-7f1a-4fe0-bafc-5252e62f2790",
        "colab": {
          "base_uri": "https://localhost:8080/"
        }
      },
      "outputs": [
        {
          "output_type": "stream",
          "name": "stdout",
          "text": [
            " [1] \"Drama\"     \"Animation\" \"Children\"  \"Drama\"     \"Musical\"   \"Thriller\" \n",
            " [7] \"Action\"    \"Adventure\" \"Sci-Fi\"    \"Thriller\"  \"Drama\"    \n"
          ]
        }
      ],
      "source": [
        "# DO NOT EDIT THIS CELL\n",
        "\n",
        "print(get_single_genres(c(\"Drama\",\n",
        "                    \"Animation|Children|Drama|Musical\",\n",
        "                    \"Thriller\",\n",
        "                    \"Action|Adventure|Sci-Fi|Thriller\",\n",
        "                    \"Drama\")))"
      ]
    },
    {
      "cell_type": "code",
      "execution_count": null,
      "metadata": {
        "id": "qom5K7gxmjrm",
        "colab": {
          "base_uri": "https://localhost:8080/"
        },
        "outputId": "d798b1eb-2ba9-45bf-d150-35f837d52d2e"
      },
      "outputs": [
        {
          "output_type": "stream",
          "name": "stdout",
          "text": [
            " [1] \"Drama\"     \"War\"       \"Action\"    \"Adventure\" \"Drama\"     \"Drama\"    \n",
            " [7] \"Fantasy\"   \"Horror\"    \"Romance\"   \"Thriller\"  \"Thriller\" \n"
          ]
        }
      ],
      "source": [
        "# DO NOT EDIT THIS CELL\n",
        "\n",
        "print(get_single_genres(c(\"Drama|War\",\n",
        "                          \"Action|Adventure|Drama\",\n",
        "                          \"Drama\",\n",
        "                          \"Fantasy|Horror|Romance|Thriller\",\n",
        "                          \"Thriller\")))"
      ]
    },
    {
      "cell_type": "markdown",
      "metadata": {
        "id": "M0TUv8Jlmjrm"
      },
      "source": [
        "**(3)** Create a vector `all_genres` by calling the function `get_single_genres` on the `genres` column of the `movielens` tibble. _2 points_"
      ]
    },
    {
      "cell_type": "code",
      "execution_count": null,
      "metadata": {
        "id": "5aKozHP-mjrn"
      },
      "outputs": [],
      "source": [
        "# SOLUTION CELL 2.3\n",
        "all_genres <- vector()\n",
        "all_genres <- get_single_genres(movielens$genres)\n"
      ]
    },
    {
      "cell_type": "code",
      "execution_count": null,
      "metadata": {
        "id": "IeJ4OXTLmjrn",
        "colab": {
          "base_uri": "https://localhost:8080/",
          "height": 52
        },
        "outputId": "f5cb3513-af88-4b92-caad-f293735f096d"
      },
      "outputs": [
        {
          "output_type": "display_data",
          "data": {
            "text/html": [
              "265517"
            ],
            "text/markdown": "265517",
            "text/latex": "265517",
            "text/plain": [
              "[1] 265517"
            ]
          },
          "metadata": {}
        },
        {
          "output_type": "display_data",
          "data": {
            "text/html": [
              "20"
            ],
            "text/markdown": "20",
            "text/latex": "20",
            "text/plain": [
              "[1] 20"
            ]
          },
          "metadata": {}
        }
      ],
      "source": [
        "# DO NOT EDIT THIS CELL\n",
        "\n",
        "length(all_genres) # should print 265517\n",
        "length(unique(all_genres)) # should print 20"
      ]
    },
    {
      "cell_type": "markdown",
      "metadata": {
        "id": "nnlHn7zVmjrn"
      },
      "source": [
        "**(4)** Create a tibble `genre_tbl` that has a single column named `genre`. This column should be identical to the character vector `all_genres` you created above. _1 point_"
      ]
    },
    {
      "cell_type": "code",
      "execution_count": null,
      "metadata": {
        "id": "e6N2-uHemjrn"
      },
      "outputs": [],
      "source": [
        "# SOLUTION CELL 2.4\n",
        "genre_tbl <- tibble(genre = all_genres)\n"
      ]
    },
    {
      "cell_type": "code",
      "execution_count": null,
      "metadata": {
        "id": "ugxZWcNJmjrn",
        "colab": {
          "base_uri": "https://localhost:8080/",
          "height": 321
        },
        "outputId": "eac75293-24fe-49b7-c2a8-feb15f0cc0aa"
      },
      "outputs": [
        {
          "output_type": "display_data",
          "data": {
            "text/html": [
              "<table class=\"dataframe\">\n",
              "<caption>A tibble: 6 × 1</caption>\n",
              "<thead>\n",
              "\t<tr><th scope=col>genre</th></tr>\n",
              "\t<tr><th scope=col>&lt;chr&gt;</th></tr>\n",
              "</thead>\n",
              "<tbody>\n",
              "\t<tr><td>Drama    </td></tr>\n",
              "\t<tr><td>Animation</td></tr>\n",
              "\t<tr><td>Children </td></tr>\n",
              "\t<tr><td>Drama    </td></tr>\n",
              "\t<tr><td>Musical  </td></tr>\n",
              "\t<tr><td>Thriller </td></tr>\n",
              "</tbody>\n",
              "</table>\n"
            ],
            "text/markdown": "\nA tibble: 6 × 1\n\n| genre &lt;chr&gt; |\n|---|\n| Drama     |\n| Animation |\n| Children  |\n| Drama     |\n| Musical   |\n| Thriller  |\n\n",
            "text/latex": "A tibble: 6 × 1\n\\begin{tabular}{l}\n genre\\\\\n <chr>\\\\\n\\hline\n\t Drama    \\\\\n\t Animation\\\\\n\t Children \\\\\n\t Drama    \\\\\n\t Musical  \\\\\n\t Thriller \\\\\n\\end{tabular}\n",
            "text/plain": [
              "  genre    \n",
              "1 Drama    \n",
              "2 Animation\n",
              "3 Children \n",
              "4 Drama    \n",
              "5 Musical  \n",
              "6 Thriller "
            ]
          },
          "metadata": {}
        },
        {
          "output_type": "display_data",
          "data": {
            "text/html": [
              "265517"
            ],
            "text/markdown": "265517",
            "text/latex": "265517",
            "text/plain": [
              "[1] 265517"
            ]
          },
          "metadata": {}
        }
      ],
      "source": [
        "# DO NOT EDIT THIS CELL\n",
        "\n",
        "head(genre_tbl) # print first few rows of genre_tbl\n",
        "nrow(genre_tbl) # should print 265517"
      ]
    },
    {
      "cell_type": "markdown",
      "metadata": {
        "id": "HrTW0DNbmjrn"
      },
      "source": [
        "**(5)** Use the `genre_tbl` tibble to output a tibble with five rows and two columns named `genre` and `count`. The `genre` column should be the top 5 most frequent genres in `genre_tbl` sorted in descending order of their frequencies. The `count` column should be the count of how frequently the genre appears in `genre_tbl`. _3 points_"
      ]
    },
    {
      "cell_type": "code",
      "execution_count": null,
      "metadata": {
        "id": "rUfhDcBrmjrn",
        "colab": {
          "base_uri": "https://localhost:8080/",
          "height": 255
        },
        "outputId": "7460fbd4-712e-40b6-e21f-e201fc7cdc54"
      },
      "outputs": [
        {
          "output_type": "display_data",
          "data": {
            "text/html": [
              "<table class=\"dataframe\">\n",
              "<caption>A tibble: 5 × 2</caption>\n",
              "<thead>\n",
              "\t<tr><th scope=col>genre</th><th scope=col>count</th></tr>\n",
              "\t<tr><th scope=col>&lt;chr&gt;</th><th scope=col>&lt;int&gt;</th></tr>\n",
              "</thead>\n",
              "<tbody>\n",
              "\t<tr><td>Drama    </td><td>44752</td></tr>\n",
              "\t<tr><td>Comedy   </td><td>38026</td></tr>\n",
              "\t<tr><td>Action   </td><td>27056</td></tr>\n",
              "\t<tr><td>Thriller </td><td>25240</td></tr>\n",
              "\t<tr><td>Adventure</td><td>22017</td></tr>\n",
              "</tbody>\n",
              "</table>\n"
            ],
            "text/markdown": "\nA tibble: 5 × 2\n\n| genre &lt;chr&gt; | count &lt;int&gt; |\n|---|---|\n| Drama     | 44752 |\n| Comedy    | 38026 |\n| Action    | 27056 |\n| Thriller  | 25240 |\n| Adventure | 22017 |\n\n",
            "text/latex": "A tibble: 5 × 2\n\\begin{tabular}{ll}\n genre & count\\\\\n <chr> & <int>\\\\\n\\hline\n\t Drama     & 44752\\\\\n\t Comedy    & 38026\\\\\n\t Action    & 27056\\\\\n\t Thriller  & 25240\\\\\n\t Adventure & 22017\\\\\n\\end{tabular}\n",
            "text/plain": [
              "  genre     count\n",
              "1 Drama     44752\n",
              "2 Comedy    38026\n",
              "3 Action    27056\n",
              "4 Thriller  25240\n",
              "5 Adventure 22017"
            ]
          },
          "metadata": {}
        }
      ],
      "source": [
        "# SOLUTION CELL 2.5\n",
        "tibble <- genre_tbl %>%\n",
        "    group_by(genre) %>%\n",
        "    summarise(count = n()) %>%\n",
        "    arrange(desc(count)) %>%\n",
        "    slice(1:5)\n",
        "\n",
        "tibble\n",
        "  "
      ]
    },
    {
      "cell_type": "markdown",
      "metadata": {
        "id": "FlKDA_O_mjrn"
      },
      "source": [
        "### Problem 3"
      ]
    },
    {
      "cell_type": "markdown",
      "metadata": {
        "id": "akbdqE0emjrn"
      },
      "source": [
        "#### Test Scores, _10 points_"
      ]
    },
    {
      "cell_type": "markdown",
      "metadata": {
        "id": "TFtpUsIsmjro"
      },
      "source": [
        "Distribution of scores for algebra, global history, biology, English, and U.S. history exams.\n",
        "\n",
        "- `score` Test score from 0 to 100.\n",
        "- `integrated_algebra` Score frequency on Algebra exam.\n",
        "- `global_history` Score frequency on global history exam.\n",
        "- `living_environment` Score frequency on biology exam.\n",
        "- `english` Score frequency on English exam.\n",
        "- `us_history` Score frequency on U.S. history exam."
      ]
    },
    {
      "cell_type": "code",
      "execution_count": null,
      "metadata": {
        "id": "h_-IC-Iqmjro"
      },
      "outputs": [],
      "source": [
        "# DO NOT EDIT THIS CELL\n",
        "\n",
        "scores <- read_csv(str_c(data_prefix, \"scores.csv\"), col_types=\"iiiiii\")\n",
        "head(scores)"
      ]
    },
    {
      "cell_type": "markdown",
      "metadata": {
        "id": "FQ7WIBBSmjro"
      },
      "source": [
        "**(1)** Using the appropriate pivoting function, create a tibble `pivoted_scores` that should have three columns: `score`, `subject` and `frequency`. The values appearing in `subject` columns should be `\"integrated_algebra\"`, `\"global_history\"`, `\"living_environment\"`, `\"english\"`, and `\"us_history\"`. For the `score` and `subject` in a given row, the corresponding entry in `frequency` column should be the frequency of that score in the subject. _2 points_ "
      ]
    },
    {
      "cell_type": "code",
      "execution_count": null,
      "metadata": {
        "id": "Au5Y8-WOmjro"
      },
      "outputs": [],
      "source": [
        "# SOLUTION CELL 3.1\n",
        "pivoted_scores <- scores %>%\n",
        "                  pivot_longer(cols = -c(score), names_to = 'subject', \n",
        "                  values_to = 'frequency')"
      ]
    },
    {
      "cell_type": "code",
      "execution_count": null,
      "metadata": {
        "id": "M8Uw9OTFmjro"
      },
      "outputs": [],
      "source": [
        "# DO NOT EDIT THIS CELL\n",
        "\n",
        "head(pivoted_scores)"
      ]
    },
    {
      "cell_type": "markdown",
      "metadata": {
        "id": "h_vINww7mjro"
      },
      "source": [
        "**(2)** Using the `if_else()` function (and not using any loops), change the `frequency` column of `pivoted_scores` so that all missing values in that column are converted to 0. Assign the resulting tibble to the variable `no_na_frequency`. _2 points_"
      ]
    },
    {
      "cell_type": "code",
      "execution_count": null,
      "metadata": {
        "id": "fwmdWmDTmjro"
      },
      "outputs": [],
      "source": [
        "# SOLUTION CELL 3.2\n",
        "no_na_frequency <- pivoted_scores %>%\n",
        "                  mutate(no_na_frequency = if_else(is.na(frequency), 0, as.double(frequency)))"
      ]
    },
    {
      "cell_type": "code",
      "execution_count": null,
      "metadata": {
        "id": "zssP1CCKmjro"
      },
      "outputs": [],
      "source": [
        "# DO NOT EDIT THIS CELL\n",
        "\n",
        "filter(no_na_frequency, is.na(frequency))\n",
        "head(no_na_frequency)"
      ]
    },
    {
      "cell_type": "markdown",
      "metadata": {
        "id": "oVr-_gYKmjro"
      },
      "source": [
        "**(3)** Starting with the tibble `no_na_frequency` you created above and using a single piped command, execute the following steps in order:\n",
        "\n",
        "- Keep only those rows where `score` is not missing.\n",
        "- Create a tibble with just two columns: `score` and `overall_frequency` where the latter is the sum of the frequencies of a given score across all subjects.\n",
        "- Create a bar chart as shown [here](https://github.com/ambujtewari/stats306-winter2022/raw/main/data/plot_3-3.jpeg). Note that the bars should be filled with the color named `\"tan3\"`. Don't worry about matching the size and proportions of the example plot.\n",
        "- The minimum passing score for these exams is 65. You will notice a spike right at the minimum passing score. Make sure to add a dashed vertical line using  `geom_vline()` at the score of 65 to clearly show the location of the minimum passing score in your plot.\n",
        "\n",
        "_6 points_\n",
        "\n"
      ]
    },
    {
      "cell_type": "code",
      "execution_count": null,
      "metadata": {
        "id": "pArXxd0Nmjrp"
      },
      "outputs": [],
      "source": [
        "# SOLUTION CELL 3.3\n",
        "no_na_frequency %>%\n",
        "      filter(!is.na(score)) %>%\n",
        "      group_by(score) %>%\n",
        "      summarise(overall_frequency = sum(frequency)) %>%\n",
        "      ggplot(aes(x = score, y = overall_frequency)) + \n",
        "      geom_col(fill = 'tan3') + geom_vline(xintercept = 65, linetype = \"dashed\")\n",
        "\n"
      ]
    },
    {
      "cell_type": "markdown",
      "metadata": {
        "id": "Qd8SLXUS5B4g"
      },
      "source": [
        "### Problem 4"
      ]
    },
    {
      "cell_type": "markdown",
      "source": [
        "#### Heights, _10 points_"
      ],
      "metadata": {
        "id": "FlbGLxXkQzAz"
      }
    },
    {
      "cell_type": "markdown",
      "metadata": {
        "id": "Y58kYHd3mjrq"
      },
      "source": [
        "Students were asked to report their height (in inches) and sex in an online form.\n",
        "\n",
        "- `time_stamp` Time and date of the entry.\n",
        "- `sex` Sex of the student.\n",
        "- `height` Height as reported by student by filling in a text free box.\n",
        "\n",
        "Note that students were _asked_ to report their heights in inches but not all of them followed that instruction."
      ]
    },
    {
      "cell_type": "code",
      "execution_count": null,
      "metadata": {
        "id": "KAd5voHF5B4l",
        "colab": {
          "base_uri": "https://localhost:8080/",
          "height": 286
        },
        "outputId": "0a1a7134-ebdc-4bae-db8a-ffdae10ea89b"
      },
      "outputs": [
        {
          "output_type": "display_data",
          "data": {
            "text/html": [
              "<table class=\"dataframe\">\n",
              "<caption>A tibble: 6 × 3</caption>\n",
              "<thead>\n",
              "\t<tr><th scope=col>time_stamp</th><th scope=col>sex</th><th scope=col>height</th></tr>\n",
              "\t<tr><th scope=col>&lt;dttm&gt;</th><th scope=col>&lt;chr&gt;</th><th scope=col>&lt;chr&gt;</th></tr>\n",
              "</thead>\n",
              "<tbody>\n",
              "\t<tr><td>2014-09-02 13:40:36</td><td>Male  </td><td>75</td></tr>\n",
              "\t<tr><td>2014-09-02 13:46:59</td><td>Male  </td><td>70</td></tr>\n",
              "\t<tr><td>2014-09-02 13:59:20</td><td>Male  </td><td>68</td></tr>\n",
              "\t<tr><td>2014-09-02 14:51:53</td><td>Male  </td><td>74</td></tr>\n",
              "\t<tr><td>2014-09-02 15:16:15</td><td>Male  </td><td>61</td></tr>\n",
              "\t<tr><td>2014-09-02 15:16:16</td><td>Female</td><td>65</td></tr>\n",
              "</tbody>\n",
              "</table>\n"
            ],
            "text/markdown": "\nA tibble: 6 × 3\n\n| time_stamp &lt;dttm&gt; | sex &lt;chr&gt; | height &lt;chr&gt; |\n|---|---|---|\n| 2014-09-02 13:40:36 | Male   | 75 |\n| 2014-09-02 13:46:59 | Male   | 70 |\n| 2014-09-02 13:59:20 | Male   | 68 |\n| 2014-09-02 14:51:53 | Male   | 74 |\n| 2014-09-02 15:16:15 | Male   | 61 |\n| 2014-09-02 15:16:16 | Female | 65 |\n\n",
            "text/latex": "A tibble: 6 × 3\n\\begin{tabular}{lll}\n time\\_stamp & sex & height\\\\\n <dttm> & <chr> & <chr>\\\\\n\\hline\n\t 2014-09-02 13:40:36 & Male   & 75\\\\\n\t 2014-09-02 13:46:59 & Male   & 70\\\\\n\t 2014-09-02 13:59:20 & Male   & 68\\\\\n\t 2014-09-02 14:51:53 & Male   & 74\\\\\n\t 2014-09-02 15:16:15 & Male   & 61\\\\\n\t 2014-09-02 15:16:16 & Female & 65\\\\\n\\end{tabular}\n",
            "text/plain": [
              "  time_stamp          sex    height\n",
              "1 2014-09-02 13:40:36 Male   75    \n",
              "2 2014-09-02 13:46:59 Male   70    \n",
              "3 2014-09-02 13:59:20 Male   68    \n",
              "4 2014-09-02 14:51:53 Male   74    \n",
              "5 2014-09-02 15:16:15 Male   61    \n",
              "6 2014-09-02 15:16:16 Female 65    "
            ]
          },
          "metadata": {}
        }
      ],
      "source": [
        "# DO NOT EDIT THIS CELL\n",
        "\n",
        "heights <- read_csv(str_c(data_prefix, \"heights.csv\"), col_types = \"Tcc\")\n",
        "head(heights)"
      ]
    },
    {
      "cell_type": "markdown",
      "metadata": {
        "id": "Rv3jtsy25B4m"
      },
      "source": [
        "**(1)** After reading the csv file, the `height` column in `heights` is of type character. Add a new column `new_height` which is the `height` column converted to type double. Assign this new tibble to the variable `heights`. _2 points_"
      ]
    },
    {
      "cell_type": "code",
      "execution_count": null,
      "metadata": {
        "id": "tzT-AT7o5B4n"
      },
      "outputs": [],
      "source": [
        "# SOLUTION CELL 4.1\n",
        "heights <- heights %>%\n",
        "           mutate(new_height = as.double(height))"
      ]
    },
    {
      "cell_type": "markdown",
      "metadata": {
        "id": "kYRnWTwemjrq"
      },
      "source": [
        "You will see a warning saying that NAs were introduced by coercion. That's OK. The issue is that not all values in `heights` are convertible to type double. Let us look at some of them."
      ]
    },
    {
      "cell_type": "code",
      "execution_count": null,
      "metadata": {
        "id": "LFVAfKs4mjrq"
      },
      "outputs": [],
      "source": [
        "# DO NOT EDIT THIS CELL\n",
        "\n",
        "heights %>%\n",
        "    filter(is.na(new_height)) %>%\n",
        "    head()"
      ]
    },
    {
      "cell_type": "markdown",
      "metadata": {
        "id": "PIxYEbUvmjrr"
      },
      "source": [
        "**(2)** First, store all rows of `heights` that don't have `new_height` missing in a variable called `heights_noprob`. Next, using `heights_noprob` create a histogram of `new_height` with a `binwidth` of 100 and fill color `\"cornflowerblue\"`. _2 points_"
      ]
    },
    {
      "cell_type": "code",
      "execution_count": null,
      "metadata": {
        "id": "UPz3Purcmjrr"
      },
      "outputs": [],
      "source": [
        "# SOLUTION CELL 4.2\n",
        "heights_noprob <- heights %>%\n",
        "                  filter(!is.na(new_height))\n",
        "\n",
        "ggplot(data = heights_noprob, aes(x = new_height)) + \n",
        "geom_histogram(binwidth = 100, fill = \"cornflowerblue\")\n",
        "\n",
        "\n",
        "      "
      ]
    },
    {
      "cell_type": "markdown",
      "metadata": {
        "id": "rZWw2GBSmjrr"
      },
      "source": [
        "You should notice many outliers in the histogram above. Even if people are reporting their heights in centimeters, we should not expect to see values above, say, 214 (7 feet is 213.36 cm)."
      ]
    },
    {
      "cell_type": "markdown",
      "metadata": {
        "id": "JWpq8yLqmjrr"
      },
      "source": [
        "**(3)** Let us zoom into some of the outliers."
      ]
    },
    {
      "cell_type": "code",
      "execution_count": null,
      "metadata": {
        "id": "vNq8r1BDmjrr"
      },
      "outputs": [],
      "source": [
        "# DO NOT EDIT THIS CELL\n",
        "\n",
        "filter(heights_noprob, new_height > 214)"
      ]
    },
    {
      "cell_type": "markdown",
      "metadata": {
        "id": "CVCwiKs8mjrr"
      },
      "source": [
        "Replot the histogram of `new_height` in `heights_noprob` this time _excluding_ the outliers we found above. Use the same fill color as in the previous histogram but now use a `binwidth` of 10.\n",
        "\n",
        "_2 points_"
      ]
    },
    {
      "cell_type": "code",
      "execution_count": null,
      "metadata": {
        "id": "bZ-4T92Imjrr"
      },
      "outputs": [],
      "source": [
        "# SOLUTION CELL 4.3\n",
        "heights_noprob <- heights_noprob %>%\n",
        "                  filter(new_height <= 214)\n",
        "ggplot(heights_noprob, aes(x = new_height)) +\n",
        "          geom_histogram(binwidth = 10, color = \"cornflowerblue\", \n",
        "          fill = \"cornflowerblue\")\n"
      ]
    },
    {
      "cell_type": "markdown",
      "metadata": {
        "id": "CCXAyxX-mjrr"
      },
      "source": [
        "You should see three clear clusters of reported heights. A reasonable conjecture might be that some people reported their height in feet, some in inches, and some in centimeters. Also note that the biggest cluster corresponds to heights reported in inches since that was what the instructions asked students to report."
      ]
    },
    {
      "cell_type": "markdown",
      "metadata": {
        "id": "bPv_n2qZ5B4o"
      },
      "source": [
        "**(4)** Create a tibble named `heights_prob` that should have those rows of `heights` where `new_height` is missing. _1 point_"
      ]
    },
    {
      "cell_type": "code",
      "execution_count": null,
      "metadata": {
        "id": "xs404ZQB5B4o"
      },
      "outputs": [],
      "source": [
        "# SOLUTION CELL 4.4\n",
        "heights_prob <- heights %>%\n",
        "                  filter(is.na(new_height))"
      ]
    },
    {
      "cell_type": "code",
      "execution_count": null,
      "metadata": {
        "id": "PXPMakdnmjrs",
        "colab": {
          "base_uri": "https://localhost:8080/",
          "height": 286
        },
        "outputId": "33e76b12-2c5f-4c9d-d4ff-b5fe9f47c206"
      },
      "outputs": [
        {
          "output_type": "display_data",
          "data": {
            "text/html": [
              "<table class=\"dataframe\">\n",
              "<caption>A tibble: 6 × 4</caption>\n",
              "<thead>\n",
              "\t<tr><th scope=col>time_stamp</th><th scope=col>sex</th><th scope=col>height</th><th scope=col>new_height</th></tr>\n",
              "\t<tr><th scope=col>&lt;dttm&gt;</th><th scope=col>&lt;chr&gt;</th><th scope=col>&lt;chr&gt;</th><th scope=col>&lt;dbl&gt;</th></tr>\n",
              "</thead>\n",
              "<tbody>\n",
              "\t<tr><td>2014-09-02 15:16:28</td><td>Male  </td><td>5' 4\"</td><td>NA</td></tr>\n",
              "\t<tr><td>2014-09-02 15:16:37</td><td>Female</td><td>165cm</td><td>NA</td></tr>\n",
              "\t<tr><td>2014-09-02 15:16:52</td><td>Male  </td><td>5'7  </td><td>NA</td></tr>\n",
              "\t<tr><td>2014-09-02 15:16:56</td><td><span style=white-space:pre-wrap>Male  </span></td><td>&gt;9000</td><td>NA</td></tr>\n",
              "\t<tr><td>2014-09-02 15:16:56</td><td>Male  </td><td>5'7\" </td><td>NA</td></tr>\n",
              "\t<tr><td>2014-09-02 15:17:09</td><td>Female</td><td>5'3\" </td><td>NA</td></tr>\n",
              "</tbody>\n",
              "</table>\n"
            ],
            "text/markdown": "\nA tibble: 6 × 4\n\n| time_stamp &lt;dttm&gt; | sex &lt;chr&gt; | height &lt;chr&gt; | new_height &lt;dbl&gt; |\n|---|---|---|---|\n| 2014-09-02 15:16:28 | Male   | 5' 4\" | NA |\n| 2014-09-02 15:16:37 | Female | 165cm | NA |\n| 2014-09-02 15:16:52 | Male   | 5'7   | NA |\n| 2014-09-02 15:16:56 | Male   | &gt;9000 | NA |\n| 2014-09-02 15:16:56 | Male   | 5'7\"  | NA |\n| 2014-09-02 15:17:09 | Female | 5'3\"  | NA |\n\n",
            "text/latex": "A tibble: 6 × 4\n\\begin{tabular}{llll}\n time\\_stamp & sex & height & new\\_height\\\\\n <dttm> & <chr> & <chr> & <dbl>\\\\\n\\hline\n\t 2014-09-02 15:16:28 & Male   & 5' 4\" & NA\\\\\n\t 2014-09-02 15:16:37 & Female & 165cm & NA\\\\\n\t 2014-09-02 15:16:52 & Male   & 5'7   & NA\\\\\n\t 2014-09-02 15:16:56 & Male   & >9000 & NA\\\\\n\t 2014-09-02 15:16:56 & Male   & 5'7\"  & NA\\\\\n\t 2014-09-02 15:17:09 & Female & 5'3\"  & NA\\\\\n\\end{tabular}\n",
            "text/plain": [
              "  time_stamp          sex    height new_height\n",
              "1 2014-09-02 15:16:28 Male   5' 4\"  NA        \n",
              "2 2014-09-02 15:16:37 Female 165cm  NA        \n",
              "3 2014-09-02 15:16:52 Male   5'7    NA        \n",
              "4 2014-09-02 15:16:56 Male   >9000  NA        \n",
              "5 2014-09-02 15:16:56 Male   5'7\"   NA        \n",
              "6 2014-09-02 15:17:09 Female 5'3\"   NA        "
            ]
          },
          "metadata": {}
        }
      ],
      "source": [
        "# DO NOT EDIT THIS CELL\n",
        "\n",
        "head(heights_prob)\n"
      ]
    },
    {
      "cell_type": "markdown",
      "metadata": {
        "id": "uCahf0Rg5B4p"
      },
      "source": [
        "**(5)** Create a tibble named `heights_quote` that contains those rows of `heights_prob` where `height` has the height reported in the form `x'y''` or several of its variants like `x'y`, `x'y\"` etc. In your solution, separately define a regular expression named `heights_quote_re` that matches only those strings that _entirely consist of_ the following pattern:\n",
        "\n",
        "- the pattern begins with a single digit\n",
        "- followed by a single quote `'`\n",
        "- followed by zero or more occurrences of space (no need to worry about tabs, newlines, etc., just regular space character)\n",
        "- followed by 0-2 occurences of digits (since the inches parts can be up to 2 digits long)\n",
        "- followed by an optional decimal part of the inches. The decimal part is a period `.` followed by 1 or 2 digits. \n",
        "- followed by an optional ending pattern. The optional ending pattern is either two single quotes `''` or a double quote `\"`.\n",
        "\n",
        "_3 points_"
      ]
    },
    {
      "cell_type": "code",
      "execution_count": null,
      "metadata": {
        "id": "I_m36cYrmjrs"
      },
      "outputs": [],
      "source": [
        "# SOLUTION CELL 4.5\n",
        "heights_quote_re = \"^\\\\d{1}'{1}\\\\s{0,}\\\\d{0,2}(.(1[0-9]|2[0-9])){0,1}(''|\\\")\"\n",
        "heights_quote <- heights_prob %>%\n",
        "                filter(str_detect(height, heights_quote_re))"
      ]
    },
    {
      "cell_type": "code",
      "execution_count": null,
      "metadata": {
        "id": "JkraldXLmjrs",
        "colab": {
          "base_uri": "https://localhost:8080/",
          "height": 286
        },
        "outputId": "612d7b9a-147c-43cd-f1a3-8569e6dc445d"
      },
      "outputs": [
        {
          "output_type": "display_data",
          "data": {
            "text/html": [
              "<table class=\"dataframe\">\n",
              "<caption>A tibble: 6 × 4</caption>\n",
              "<thead>\n",
              "\t<tr><th scope=col>time_stamp</th><th scope=col>sex</th><th scope=col>height</th><th scope=col>new_height</th></tr>\n",
              "\t<tr><th scope=col>&lt;dttm&gt;</th><th scope=col>&lt;chr&gt;</th><th scope=col>&lt;chr&gt;</th><th scope=col>&lt;dbl&gt;</th></tr>\n",
              "</thead>\n",
              "<tbody>\n",
              "\t<tr><td>2014-09-02 15:16:28</td><td>Male  </td><td>5' 4\" </td><td>NA</td></tr>\n",
              "\t<tr><td>2014-09-02 15:16:56</td><td>Male  </td><td>5'7\"  </td><td>NA</td></tr>\n",
              "\t<tr><td>2014-09-02 15:17:09</td><td>Female</td><td>5'3\"  </td><td>NA</td></tr>\n",
              "\t<tr><td>2014-09-04 00:46:45</td><td>Male  </td><td>5'9'' </td><td>NA</td></tr>\n",
              "\t<tr><td>2014-09-04 10:29:44</td><td>Male  </td><td>5'10''</td><td>NA</td></tr>\n",
              "\t<tr><td>2014-10-19 13:08:30</td><td>Male  </td><td>5'5\"  </td><td>NA</td></tr>\n",
              "</tbody>\n",
              "</table>\n"
            ],
            "text/markdown": "\nA tibble: 6 × 4\n\n| time_stamp &lt;dttm&gt; | sex &lt;chr&gt; | height &lt;chr&gt; | new_height &lt;dbl&gt; |\n|---|---|---|---|\n| 2014-09-02 15:16:28 | Male   | 5' 4\"  | NA |\n| 2014-09-02 15:16:56 | Male   | 5'7\"   | NA |\n| 2014-09-02 15:17:09 | Female | 5'3\"   | NA |\n| 2014-09-04 00:46:45 | Male   | 5'9''  | NA |\n| 2014-09-04 10:29:44 | Male   | 5'10'' | NA |\n| 2014-10-19 13:08:30 | Male   | 5'5\"   | NA |\n\n",
            "text/latex": "A tibble: 6 × 4\n\\begin{tabular}{llll}\n time\\_stamp & sex & height & new\\_height\\\\\n <dttm> & <chr> & <chr> & <dbl>\\\\\n\\hline\n\t 2014-09-02 15:16:28 & Male   & 5' 4\"  & NA\\\\\n\t 2014-09-02 15:16:56 & Male   & 5'7\"   & NA\\\\\n\t 2014-09-02 15:17:09 & Female & 5'3\"   & NA\\\\\n\t 2014-09-04 00:46:45 & Male   & 5'9''  & NA\\\\\n\t 2014-09-04 10:29:44 & Male   & 5'10'' & NA\\\\\n\t 2014-10-19 13:08:30 & Male   & 5'5\"   & NA\\\\\n\\end{tabular}\n",
            "text/plain": [
              "  time_stamp          sex    height new_height\n",
              "1 2014-09-02 15:16:28 Male   5' 4\"  NA        \n",
              "2 2014-09-02 15:16:56 Male   5'7\"   NA        \n",
              "3 2014-09-02 15:17:09 Female 5'3\"   NA        \n",
              "4 2014-09-04 00:46:45 Male   5'9''  NA        \n",
              "5 2014-09-04 10:29:44 Male   5'10'' NA        \n",
              "6 2014-10-19 13:08:30 Male   5'5\"   NA        "
            ]
          },
          "metadata": {}
        }
      ],
      "source": [
        "# DO NOT EDIT THIS CELL\n",
        "\n",
        "head(heights_quote)"
      ]
    }
  ],
  "metadata": {
    "colab": {
      "collapsed_sections": [],
      "name": "Copy of final.ipynb",
      "provenance": [],
      "toc_visible": true,
      "include_colab_link": true
    },
    "kernelspec": {
      "display_name": "R",
      "language": "R",
      "name": "ir"
    },
    "language_info": {
      "codemirror_mode": "r",
      "file_extension": ".r",
      "mimetype": "text/x-r-source",
      "name": "R",
      "pygments_lexer": "r",
      "version": "4.0.5"
    }
  },
  "nbformat": 4,
  "nbformat_minor": 0
}